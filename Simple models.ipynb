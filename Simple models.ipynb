{
 "cells": [
  {
   "cell_type": "markdown",
   "metadata": {},
   "source": [
    "### Модели предсказания сепсиса\n",
    "\n",
    "Ноутбук содержит анализ данных пациентов с сепсисом. Цель - разработка моделей, способных предсказывать наличие сепсиса по простым признакам, не требующим лабораторного исследования (САД, сатурация, ЧСС, Пол, Возраст, Наличие/отсутствие инфекции). Подобные модели позволят проводить быстрый скрининг наличия сепсиса у паиентов без применения лабораторных методов исследования.\n",
    "\n",
    "Данные взяты из открытых источников:\n",
    "\n",
    "Данные: https://zenodo.org/record/3550014\n",
    "\n",
    "Статья: https://journals.plos.org/plosone/article?id=10.1371/journal.pone.0225700\n",
    "\n"
   ]
  },
  {
   "cell_type": "code",
   "execution_count": 1,
   "metadata": {},
   "outputs": [
    {
     "data": {
      "text/plain": [
       "<torch._C.Generator at 0x1db6ac28930>"
      ]
     },
     "execution_count": 1,
     "metadata": {},
     "output_type": "execute_result"
    }
   ],
   "source": [
    "import numpy as np\n",
    "import pandas as pd\n",
    "import matplotlib.pyplot as plt\n",
    "import seaborn as sns\n",
    "#\n",
    "from sklearn.preprocessing import StandardScaler\n",
    "from sklearn.model_selection import train_test_split, GridSearchCV, StratifiedKFold, KFold\n",
    "from sklearn.linear_model import LogisticRegression\n",
    "from sklearn.ensemble import RandomForestClassifier\n",
    "from sklearn.model_selection import RandomizedSearchCV\n",
    "import xgboost\n",
    "\n",
    "from sklearn.metrics import (\n",
    "    accuracy_score,\n",
    "    precision_score,\n",
    "    recall_score,\n",
    "    f1_score,\n",
    "    roc_auc_score,\n",
    "     classification_report, \n",
    "    confusion_matrix\n",
    ")\n",
    "\n",
    "RAND=77\n",
    "#\n",
    "from sklearn.metrics import roc_curve, auc\n",
    "from sklearn.metrics import roc_auc_score\n",
    "import warnings\n",
    "warnings.filterwarnings(\"ignore\")\n",
    "#\n",
    "from sklearn.model_selection import RandomizedSearchCV\n",
    "#\n",
    "import torch\n",
    "import random\n",
    "#\n",
    "random.seed(RAND)\n",
    "np.random.seed(RAND)\n",
    "torch.manual_seed(RAND)"
   ]
  },
  {
   "cell_type": "code",
   "execution_count": 2,
   "metadata": {},
   "outputs": [],
   "source": [
    "def get_union(a, b):\n",
    "    return 1 if a and b else 0"
   ]
  },
  {
   "cell_type": "markdown",
   "metadata": {},
   "source": [
    "### Загрузка первичных данных\n",
    "\n",
    "Отбор признаков интереса: САД, сатурация, ЧСС, Пол, Возраст, Наличие/отсутствие инфекции\n",
    "\n",
    "Наличие сепсиса определяется по стандарту Сепсис-3 как наличие подтвержденной инфекции и баллы по шкале SOFA > 2"
   ]
  },
  {
   "cell_type": "code",
   "execution_count": 3,
   "metadata": {},
   "outputs": [
    {
     "name": "stdout",
     "output_type": "stream",
     "text": [
      "(2196, 7)\n"
     ]
    },
    {
     "data": {
      "text/html": [
       "<div>\n",
       "<style scoped>\n",
       "    .dataframe tbody tr th:only-of-type {\n",
       "        vertical-align: middle;\n",
       "    }\n",
       "\n",
       "    .dataframe tbody tr th {\n",
       "        vertical-align: top;\n",
       "    }\n",
       "\n",
       "    .dataframe thead th {\n",
       "        text-align: right;\n",
       "    }\n",
       "</style>\n",
       "<table border=\"1\" class=\"dataframe\">\n",
       "  <thead>\n",
       "    <tr style=\"text-align: right;\">\n",
       "      <th></th>\n",
       "      <th>F6A SBP in ED</th>\n",
       "      <th>F6D Sat% in ED</th>\n",
       "      <th>F6G HR/min in ED</th>\n",
       "      <th>Gender</th>\n",
       "      <th>Age (yrs)</th>\n",
       "      <th>Infection</th>\n",
       "      <th>Sepsis</th>\n",
       "    </tr>\n",
       "  </thead>\n",
       "  <tbody>\n",
       "    <tr>\n",
       "      <th>0</th>\n",
       "      <td>155.0</td>\n",
       "      <td>96.0</td>\n",
       "      <td>60.0</td>\n",
       "      <td>Male</td>\n",
       "      <td>81</td>\n",
       "      <td>Yes</td>\n",
       "      <td>0</td>\n",
       "    </tr>\n",
       "    <tr>\n",
       "      <th>1</th>\n",
       "      <td>159.0</td>\n",
       "      <td>100.0</td>\n",
       "      <td>79.0</td>\n",
       "      <td>Male</td>\n",
       "      <td>61</td>\n",
       "      <td>Yes</td>\n",
       "      <td>0</td>\n",
       "    </tr>\n",
       "    <tr>\n",
       "      <th>2</th>\n",
       "      <td>134.0</td>\n",
       "      <td>97.0</td>\n",
       "      <td>66.0</td>\n",
       "      <td>Male</td>\n",
       "      <td>77</td>\n",
       "      <td>Yes</td>\n",
       "      <td>0</td>\n",
       "    </tr>\n",
       "  </tbody>\n",
       "</table>\n",
       "</div>"
      ],
      "text/plain": [
       "   F6A SBP in ED  F6D Sat% in ED  F6G HR/min in ED Gender  Age (yrs)  \\\n",
       "0          155.0            96.0              60.0   Male         81   \n",
       "1          159.0           100.0              79.0   Male         61   \n",
       "2          134.0            97.0              66.0   Male         77   \n",
       "\n",
       "  Infection  Sepsis  \n",
       "0       Yes       0  \n",
       "1       Yes       0  \n",
       "2       Yes       0  "
      ]
     },
     "execution_count": 3,
     "metadata": {},
     "output_type": "execute_result"
    }
   ],
   "source": [
    "D = pd.read_excel('Dataset.xlsx')\n",
    "drop_cols = D.columns.values[D.isna().sum().values>(D.shape[0]*0.1)]\n",
    "D = D.drop(drop_cols, axis=1)\n",
    "D = D[['F6A SBP in ED','F6D Sat% in ED', 'F6G HR/min in ED',\n",
    "    'Gender', 'Age (yrs)', 'Infection', 'SOFA points']] # САД, сатурация, ЧСС, Пол, Возраст, Наличие/отсутствие инфекции\n",
    "#\n",
    "D['Sepsis'] = list(map(lambda x: get_union(D.iloc[x].Infection == 'Yes',\n",
    "                             D.iloc[x]['SOFA points'] >= 2), D.index.values)) # Определяем сепсис\n",
    "#\n",
    "D = D.drop(['SOFA points'], axis=1)\n",
    "print(D.shape)\n",
    "D.head(3)"
   ]
  },
  {
   "cell_type": "markdown",
   "metadata": {},
   "source": [
    "Уберем пропущенные значения и трансформируем бинарные признаки"
   ]
  },
  {
   "cell_type": "code",
   "execution_count": 4,
   "metadata": {},
   "outputs": [
    {
     "data": {
      "text/plain": [
       "(1996, 7)"
      ]
     },
     "execution_count": 4,
     "metadata": {},
     "output_type": "execute_result"
    }
   ],
   "source": [
    "D = D.dropna()\n",
    "D.shape"
   ]
  },
  {
   "cell_type": "code",
   "execution_count": 5,
   "metadata": {},
   "outputs": [
    {
     "data": {
      "text/html": [
       "<div>\n",
       "<style scoped>\n",
       "    .dataframe tbody tr th:only-of-type {\n",
       "        vertical-align: middle;\n",
       "    }\n",
       "\n",
       "    .dataframe tbody tr th {\n",
       "        vertical-align: top;\n",
       "    }\n",
       "\n",
       "    .dataframe thead th {\n",
       "        text-align: right;\n",
       "    }\n",
       "</style>\n",
       "<table border=\"1\" class=\"dataframe\">\n",
       "  <thead>\n",
       "    <tr style=\"text-align: right;\">\n",
       "      <th></th>\n",
       "      <th>F6A SBP in ED</th>\n",
       "      <th>F6D Sat% in ED</th>\n",
       "      <th>F6G HR/min in ED</th>\n",
       "      <th>Gender</th>\n",
       "      <th>Age (yrs)</th>\n",
       "      <th>Infection</th>\n",
       "      <th>Sepsis</th>\n",
       "    </tr>\n",
       "  </thead>\n",
       "  <tbody>\n",
       "    <tr>\n",
       "      <th>0</th>\n",
       "      <td>155.0</td>\n",
       "      <td>96.0</td>\n",
       "      <td>60.0</td>\n",
       "      <td>1</td>\n",
       "      <td>81</td>\n",
       "      <td>1</td>\n",
       "      <td>0</td>\n",
       "    </tr>\n",
       "    <tr>\n",
       "      <th>1</th>\n",
       "      <td>159.0</td>\n",
       "      <td>100.0</td>\n",
       "      <td>79.0</td>\n",
       "      <td>1</td>\n",
       "      <td>61</td>\n",
       "      <td>1</td>\n",
       "      <td>0</td>\n",
       "    </tr>\n",
       "    <tr>\n",
       "      <th>2</th>\n",
       "      <td>134.0</td>\n",
       "      <td>97.0</td>\n",
       "      <td>66.0</td>\n",
       "      <td>1</td>\n",
       "      <td>77</td>\n",
       "      <td>1</td>\n",
       "      <td>0</td>\n",
       "    </tr>\n",
       "    <tr>\n",
       "      <th>3</th>\n",
       "      <td>94.0</td>\n",
       "      <td>96.0</td>\n",
       "      <td>97.0</td>\n",
       "      <td>1</td>\n",
       "      <td>19</td>\n",
       "      <td>0</td>\n",
       "      <td>0</td>\n",
       "    </tr>\n",
       "    <tr>\n",
       "      <th>4</th>\n",
       "      <td>110.0</td>\n",
       "      <td>94.0</td>\n",
       "      <td>100.0</td>\n",
       "      <td>1</td>\n",
       "      <td>84</td>\n",
       "      <td>1</td>\n",
       "      <td>0</td>\n",
       "    </tr>\n",
       "  </tbody>\n",
       "</table>\n",
       "</div>"
      ],
      "text/plain": [
       "   F6A SBP in ED  F6D Sat% in ED  F6G HR/min in ED  Gender  Age (yrs)  \\\n",
       "0          155.0            96.0              60.0       1         81   \n",
       "1          159.0           100.0              79.0       1         61   \n",
       "2          134.0            97.0              66.0       1         77   \n",
       "3           94.0            96.0              97.0       1         19   \n",
       "4          110.0            94.0             100.0       1         84   \n",
       "\n",
       "   Infection  Sepsis  \n",
       "0          1       0  \n",
       "1          1       0  \n",
       "2          1       0  \n",
       "3          0       0  \n",
       "4          1       0  "
      ]
     },
     "execution_count": 5,
     "metadata": {},
     "output_type": "execute_result"
    }
   ],
   "source": [
    "D.Gender = list(map(lambda x: 1 if x == 'Male' else 0, D.Gender))\n",
    "#\n",
    "for i in ['Infection']:\n",
    "    D[i] = list(map(lambda x: 1 if x == 'Yes' else 0, D[i]))\n",
    "D.head()"
   ]
  },
  {
   "cell_type": "markdown",
   "metadata": {},
   "source": [
    "Всего в полученном датасете содержится информация о 1996 пациентах"
   ]
  },
  {
   "cell_type": "markdown",
   "metadata": {},
   "source": [
    "**Тренировка и валидация**"
   ]
  },
  {
   "cell_type": "code",
   "execution_count": 6,
   "metadata": {},
   "outputs": [
    {
     "name": "stdout",
     "output_type": "stream",
     "text": [
      "Train|test size (1197, 6) (799, 6)\n",
      "Train|test size (479, 6) (320, 6)\n",
      "Train|test|validation size (1197, 6) (479, 6) (320, 6)\n"
     ]
    }
   ],
   "source": [
    "X = D.drop('Sepsis', axis=1)\n",
    "y = D.Sepsis\n",
    "#\n",
    "X_train, X_test, y_train, y_test = train_test_split(X, y,stratify=y, random_state=RAND, train_size=0.6)\n",
    "print(\"Train|test size\", X_train.shape, X_test.shape)\n",
    "#\n",
    "train_index = X_train.index # ИНДЕКС ТРЕНИРОВКИ\n",
    "#\n",
    "X_test, X_val, y_test, y_val = train_test_split(X_test, y_test,stratify=y_test, random_state=RAND, train_size=0.6)\n",
    "print(\"Train|test size\", X_test.shape, X_val.shape)\n",
    "#\n",
    "test_index = X_test.index # ИНДЕКСЫ ТЕСТА\n",
    "val_index = X_val.index # ИНДЕКСЫ ВАЛИДАЦИИ\n",
    "print(\"Train|test|validation size\", X_train.shape, X_test.shape, X_val.shape)"
   ]
  },
  {
   "cell_type": "markdown",
   "metadata": {},
   "source": [
    "Получено 3 набора данных: тренировка, тест и валидация"
   ]
  },
  {
   "cell_type": "code",
   "execution_count": 7,
   "metadata": {},
   "outputs": [],
   "source": [
    "cross_val = StratifiedKFold(n_splits=5, shuffle=True, random_state=RAND)"
   ]
  },
  {
   "cell_type": "markdown",
   "metadata": {},
   "source": [
    "Проводим нормализацию признаков"
   ]
  },
  {
   "cell_type": "code",
   "execution_count": 7,
   "metadata": {},
   "outputs": [
    {
     "name": "stdout",
     "output_type": "stream",
     "text": [
      "[134.01169591  93.63909774  96.49373434  68.93400167]\n",
      "[26.43855815  5.23388566 20.60884471 18.6211804 ]\n"
     ]
    }
   ],
   "source": [
    "num_fech = ['F6A SBP in ED', 'F6D Sat% in ED', 'F6G HR/min in ED','Age (yrs)']\n",
    "sc = StandardScaler()\n",
    "train_num = sc.fit_transform(X_train[num_fech])\n",
    "print(sc.mean_) # Mean\n",
    "print(np.sqrt(sc.var_)) # STD"
   ]
  },
  {
   "cell_type": "markdown",
   "metadata": {},
   "source": [
    "Сохраним значения для дальнейшего использования"
   ]
  },
  {
   "cell_type": "code",
   "execution_count": 8,
   "metadata": {},
   "outputs": [],
   "source": [
    "#['F6A SBP in ED', 'F6D Sat% in ED', 'F6G HR/min in ED','Age (yrs)']\n",
    "sc_mean = np.array([134.01169591,  93.63909774,  96.49373434,  68.93400167])\n",
    "sc_std = np.array([26.43855815,  5.23388566, 20.60884471, 18.6211804])"
   ]
  },
  {
   "cell_type": "code",
   "execution_count": 9,
   "metadata": {},
   "outputs": [
    {
     "data": {
      "text/html": [
       "<div>\n",
       "<style scoped>\n",
       "    .dataframe tbody tr th:only-of-type {\n",
       "        vertical-align: middle;\n",
       "    }\n",
       "\n",
       "    .dataframe tbody tr th {\n",
       "        vertical-align: top;\n",
       "    }\n",
       "\n",
       "    .dataframe thead th {\n",
       "        text-align: right;\n",
       "    }\n",
       "</style>\n",
       "<table border=\"1\" class=\"dataframe\">\n",
       "  <thead>\n",
       "    <tr style=\"text-align: right;\">\n",
       "      <th></th>\n",
       "      <th>F6A SBP in ED</th>\n",
       "      <th>F6D Sat% in ED</th>\n",
       "      <th>F6G HR/min in ED</th>\n",
       "      <th>Gender</th>\n",
       "      <th>Age (yrs)</th>\n",
       "      <th>Infection</th>\n",
       "    </tr>\n",
       "  </thead>\n",
       "  <tbody>\n",
       "    <tr>\n",
       "      <th>1709</th>\n",
       "      <td>-0.038266</td>\n",
       "      <td>0.451080</td>\n",
       "      <td>0.558317</td>\n",
       "      <td>0</td>\n",
       "      <td>-0.103860</td>\n",
       "      <td>1</td>\n",
       "    </tr>\n",
       "    <tr>\n",
       "      <th>2137</th>\n",
       "      <td>-0.189560</td>\n",
       "      <td>0.260018</td>\n",
       "      <td>0.849454</td>\n",
       "      <td>1</td>\n",
       "      <td>0.862781</td>\n",
       "      <td>1</td>\n",
       "    </tr>\n",
       "  </tbody>\n",
       "</table>\n",
       "</div>"
      ],
      "text/plain": [
       "      F6A SBP in ED  F6D Sat% in ED  F6G HR/min in ED  Gender  Age (yrs)  \\\n",
       "1709      -0.038266        0.451080          0.558317       0  -0.103860   \n",
       "2137      -0.189560        0.260018          0.849454       1   0.862781   \n",
       "\n",
       "      Infection  \n",
       "1709          1  \n",
       "2137          1  "
      ]
     },
     "execution_count": 9,
     "metadata": {},
     "output_type": "execute_result"
    }
   ],
   "source": [
    "for x in [X_train, X_test, X_val]:\n",
    "    x['F6A SBP in ED'] = (x['F6A SBP in ED']-134.01169591)/26.43855815\n",
    "    x['F6D Sat% in ED'] = (x['F6D Sat% in ED']-93.63909774)/5.23388566\n",
    "    x['F6G HR/min in ED'] = (x['F6G HR/min in ED']-96.49373434)/20.60884471\n",
    "    x['Age (yrs)'] = (x['Age (yrs)']-68.93400167)/18.6211804\n",
    "    x = x[['F6A SBP in ED', 'F6D Sat% in ED', 'F6G HR/min in ED', 'Age (yrs)',\n",
    "       'Gender', 'Infection']]\n",
    "X_train.head(2)"
   ]
  },
  {
   "cell_type": "markdown",
   "metadata": {},
   "source": [
    "**Модели**"
   ]
  },
  {
   "cell_type": "markdown",
   "metadata": {},
   "source": [
    "Логистическая регрессия"
   ]
  },
  {
   "cell_type": "code",
   "execution_count": 10,
   "metadata": {},
   "outputs": [
    {
     "name": "stdout",
     "output_type": "stream",
     "text": [
      "Accuracy 0.7348643006263048\n",
      "Precision: 0.803088803088803\n",
      "Recall: 0.7323943661971831\n",
      "F1: 0.7661141804788213\n",
      "ROC_AUC: 0.8343986998916576\n"
     ]
    }
   ],
   "source": [
    "lr_best_params = {'C': 1.0, 'l1_ratio': 0.25, 'max_iter': 100, 'penalty': 'elasticnet', 'solver': 'saga'}\n",
    "lr_gr = LogisticRegression(**lr_best_params, class_weight=\"balanced\", random_state=RAND)\n",
    "#\n",
    "lr_gr.fit(X_train, y_train)\n",
    "y_pred = lr_gr.predict(X_test)\n",
    "y_pred_roc = lr_gr.predict_proba(X_test)[:,1]\n",
    "print(\"Accuracy\", accuracy_score(y_test, y_pred))\n",
    "print(\"Precision:\", precision_score(y_test, y_pred))\n",
    "print(\"Recall:\", recall_score(y_test, y_pred))\n",
    "print(\"F1:\", f1_score(y_test, y_pred))\n",
    "print(\"ROC_AUC:\", roc_auc_score(y_test, y_pred_roc))"
   ]
  },
  {
   "cell_type": "markdown",
   "metadata": {},
   "source": [
    "Случайный лес"
   ]
  },
  {
   "cell_type": "code",
   "execution_count": 11,
   "metadata": {},
   "outputs": [
    {
     "name": "stdout",
     "output_type": "stream",
     "text": [
      "Accuracy 0.7181628392484343\n",
      "Precision: 0.7508417508417509\n",
      "Recall: 0.7852112676056338\n",
      "F1: 0.7676419965576592\n",
      "ROC_AUC: 0.8203683640303359\n"
     ]
    }
   ],
   "source": [
    "random_forest_best_params = {'max_depth': None, 'max_features': 3, 'n_estimators': 600}\n",
    "random_forest_gr = RandomForestClassifier(**random_forest_best_params, class_weight='balanced', random_state=RAND)\n",
    "#\n",
    "random_forest_gr.fit(X_train, y_train)\n",
    "y_pred = random_forest_gr.predict(X_test)\n",
    "y_pred_roc = random_forest_gr.predict_proba(X_test)[:,1]\n",
    "print(\"Accuracy\", accuracy_score(y_test, y_pred))\n",
    "print(\"Precision:\", precision_score(y_test, y_pred))\n",
    "print(\"Recall:\", recall_score(y_test, y_pred))\n",
    "print(\"F1:\", f1_score(y_test, y_pred))\n",
    "print(\"ROC_AUC:\", roc_auc_score(y_test, y_pred_roc))"
   ]
  },
  {
   "cell_type": "markdown",
   "metadata": {},
   "source": [
    "XGBoost"
   ]
  },
  {
   "cell_type": "code",
   "execution_count": 12,
   "metadata": {},
   "outputs": [],
   "source": [
    "import joblib\n",
    "xgb = joblib.load('xgb_1.pkl')"
   ]
  },
  {
   "cell_type": "code",
   "execution_count": 13,
   "metadata": {},
   "outputs": [
    {
     "name": "stdout",
     "output_type": "stream",
     "text": [
      "[19:30:57] WARNING: C:/Users/Administrator/workspace/xgboost-win64_release_1.5.1/src/learner.cc:576: \n",
      "Parameters: { \"class_weight\", \"num_leaves\" } might not be used.\n",
      "\n",
      "  This could be a false alarm, with some parameters getting used by language bindings but\n",
      "  then being mistakenly passed down to XGBoost core, or some parameter actually being used\n",
      "  but getting flagged wrongly here. Please open an issue if you find any such cases.\n",
      "\n",
      "\n",
      "[19:30:57] WARNING: C:/Users/Administrator/workspace/xgboost-win64_release_1.5.1/src/learner.cc:1115: Starting in XGBoost 1.3.0, the default evaluation metric used with the objective 'binary:logistic' was changed from 'error' to 'logloss'. Explicitly set eval_metric if you'd like to restore the old behavior.\n",
      "Accuracy 0.7724425887265136\n",
      "Precision: 0.7692307692307693\n",
      "Recall: 0.8802816901408451\n",
      "F1: 0.8210180623973728\n",
      "ROC_AUC: 0.8450975081256771\n"
     ]
    }
   ],
   "source": [
    "param = {'gamma': 7, 'max_depth': 10, 'n_estimators': 500, \n",
    "         'alpha': 1, 'colsample_bytree': 1, 'num_leaves': 10}\n",
    "xgb = xgboost.XGBClassifier(**param, class_weight='balanced', random_state=RAND)\n",
    "xgb.fit(X_train, y_train)\n",
    "#\n",
    "y_pred = xgb.predict(X_test)\n",
    "y_pred_roc = xgb.predict_proba(X_test)[:,1]\n",
    "print(\"Accuracy\", accuracy_score(y_test, y_pred))\n",
    "print(\"Precision:\", precision_score(y_test, y_pred))\n",
    "print(\"Recall:\", recall_score(y_test, y_pred))\n",
    "print(\"F1:\", f1_score(y_test, y_pred))\n",
    "print(\"ROC_AUC:\", roc_auc_score(y_test, y_pred_roc))"
   ]
  },
  {
   "cell_type": "markdown",
   "metadata": {},
   "source": [
    "Полносвязные нейронные сети"
   ]
  },
  {
   "cell_type": "code",
   "execution_count": 14,
   "metadata": {},
   "outputs": [],
   "source": [
    "X_train_n = torch.FloatTensor(X_train.values)\n",
    "X_test_n = torch.FloatTensor(X_test.values)\n",
    "y_train_n = torch.LongTensor(y_train.values)\n",
    "y_test_n = torch.LongTensor(y_test.values)\n",
    "#\n",
    "X_val_n = torch.FloatTensor(X_val.values)\n",
    "y_val_n = torch.LongTensor(y_val.values)"
   ]
  },
  {
   "cell_type": "code",
   "execution_count": 15,
   "metadata": {},
   "outputs": [],
   "source": [
    "class STNet(torch.nn.Module):\n",
    "    def __init__(self, n_hidden_neurons):\n",
    "        super(STNet, self).__init__()\n",
    "\n",
    "        self.fc1 = torch.nn.Linear(6, n_hidden_neurons)\n",
    "        self.activ1 = torch.nn.Tanh()\n",
    "        self.fc2 = torch.nn.Linear(n_hidden_neurons, n_hidden_neurons*2)\n",
    "        self.activ2 = torch.nn.Tanh()\n",
    "        self.fc3 = torch.nn.Linear(n_hidden_neurons*2, 2)\n",
    "        #\n",
    "        self.sm = torch.nn.Softmax(dim=1)\n",
    "\n",
    "    def forward(self, x):\n",
    "        x = self.fc1(x)\n",
    "        x = self.activ1(x)\n",
    "        x = self.fc2(x)\n",
    "        x = self.activ2(x)\n",
    "        x = self.fc3(x)\n",
    "        return x\n",
    "\n",
    "    def inference(self, x):\n",
    "        x = self.forward(x)\n",
    "        x = self.sm(x)\n",
    "        return x"
   ]
  },
  {
   "cell_type": "code",
   "execution_count": 16,
   "metadata": {},
   "outputs": [],
   "source": [
    "snet_2 = STNet(2)\n",
    "loss = torch.nn.CrossEntropyLoss()\n",
    "optimizer_2 = torch.optim.Adam(snet_2.parameters(),\n",
    "                             lr=3.0e-4)\n",
    "#\n",
    "batch_size = 300\n",
    "#\n",
    "for epoch in range(1500):\n",
    "    order = np.random.permutation(len(X_train_n))\n",
    "    for start_index in range(0, len(X_train_n), batch_size):\n",
    "        optimizer_2.zero_grad()\n",
    "        \n",
    "        batch_indexes = order[start_index:start_index+batch_size]\n",
    "        \n",
    "        x_batch = X_train_n[batch_indexes]\n",
    "        y_batch = y_train_n[batch_indexes]\n",
    "        \n",
    "        preds = snet_2.forward(x_batch) \n",
    "        \n",
    "        loss_value = loss(preds, y_batch)\n",
    "        loss_value.backward()\n",
    "        \n",
    "        optimizer_2.step()"
   ]
  },
  {
   "cell_type": "code",
   "execution_count": 71,
   "metadata": {},
   "outputs": [
    {
     "name": "stdout",
     "output_type": "stream",
     "text": [
      "Accuracy 0.7578288100208769\n",
      "Precision: 0.7763157894736842\n",
      "Recall: 0.8309859154929577\n",
      "F1: 0.802721088435374\n",
      "ROC_AUC: 0.8328819068255687\n"
     ]
    }
   ],
   "source": [
    "test_preds = snet_2.forward(X_test_n)\n",
    "test_preds_prob = snet_2.sm(test_preds)[:,1]\n",
    "test_preds = test_preds.argmax(dim=1)\n",
    "#\n",
    "print(\"Accuracy\", accuracy_score(y_test_n, test_preds))\n",
    "print(\"Precision:\", precision_score(y_test_n, test_preds))\n",
    "print(\"Recall:\", recall_score(y_test_n, test_preds))\n",
    "print(\"F1:\", f1_score(y_test_n, test_preds))\n",
    "print(\"ROC_AUC:\", roc_auc_score(y_test_n.numpy(), test_preds_prob.detach().numpy()))"
   ]
  },
  {
   "cell_type": "code",
   "execution_count": 73,
   "metadata": {},
   "outputs": [],
   "source": [
    "# torch.save(snet_2, 'SNet_Prime.pth') # СОХРАНИТЬ МОДЕЛЬ"
   ]
  },
  {
   "cell_type": "code",
   "execution_count": 17,
   "metadata": {},
   "outputs": [
    {
     "name": "stdout",
     "output_type": "stream",
     "text": [
      "Accuracy 0.7578288100208769\n",
      "Precision: 0.7763157894736842\n",
      "Recall: 0.8309859154929577\n",
      "F1: 0.802721088435374\n",
      "ROC_AUC: 0.8328819068255687\n"
     ]
    }
   ],
   "source": [
    "model = torch.load('SNet_Prime.pth')\n",
    "test_preds = model.forward(X_test_n)\n",
    "test_preds_prob = model.sm(test_preds)[:,1]\n",
    "test_preds = test_preds.argmax(dim=1)\n",
    "#\n",
    "print(\"Accuracy\", accuracy_score(y_test_n, test_preds))\n",
    "print(\"Precision:\", precision_score(y_test_n, test_preds))\n",
    "print(\"Recall:\", recall_score(y_test_n, test_preds))\n",
    "print(\"F1:\", f1_score(y_test_n, test_preds))\n",
    "print(\"ROC_AUC:\", roc_auc_score(y_test_n.numpy(), test_preds_prob.detach().numpy()))"
   ]
  },
  {
   "cell_type": "markdown",
   "metadata": {},
   "source": [
    "**Валидируем**"
   ]
  },
  {
   "cell_type": "code",
   "execution_count": 18,
   "metadata": {},
   "outputs": [
    {
     "data": {
      "text/html": [
       "<div>\n",
       "<style scoped>\n",
       "    .dataframe tbody tr th:only-of-type {\n",
       "        vertical-align: middle;\n",
       "    }\n",
       "\n",
       "    .dataframe tbody tr th {\n",
       "        vertical-align: top;\n",
       "    }\n",
       "\n",
       "    .dataframe thead th {\n",
       "        text-align: right;\n",
       "    }\n",
       "</style>\n",
       "<table border=\"1\" class=\"dataframe\">\n",
       "  <thead>\n",
       "    <tr style=\"text-align: right;\">\n",
       "      <th></th>\n",
       "      <th>accuracy</th>\n",
       "      <th>precision</th>\n",
       "      <th>recall</th>\n",
       "      <th>f1</th>\n",
       "      <th>roc-auc</th>\n",
       "    </tr>\n",
       "  </thead>\n",
       "  <tbody>\n",
       "    <tr>\n",
       "      <th>LogReg</th>\n",
       "      <td>0.778125</td>\n",
       "      <td>0.827778</td>\n",
       "      <td>0.788360</td>\n",
       "      <td>0.807588</td>\n",
       "      <td>0.855770</td>\n",
       "    </tr>\n",
       "    <tr>\n",
       "      <th>RandForest</th>\n",
       "      <td>0.734375</td>\n",
       "      <td>0.754902</td>\n",
       "      <td>0.814815</td>\n",
       "      <td>0.783715</td>\n",
       "      <td>0.830910</td>\n",
       "    </tr>\n",
       "    <tr>\n",
       "      <th>XGBoost</th>\n",
       "      <td>0.771875</td>\n",
       "      <td>0.771028</td>\n",
       "      <td>0.873016</td>\n",
       "      <td>0.818859</td>\n",
       "      <td>0.856113</td>\n",
       "    </tr>\n",
       "    <tr>\n",
       "      <th>NN</th>\n",
       "      <td>0.765625</td>\n",
       "      <td>0.785000</td>\n",
       "      <td>0.830688</td>\n",
       "      <td>0.807198</td>\n",
       "      <td>0.860172</td>\n",
       "    </tr>\n",
       "  </tbody>\n",
       "</table>\n",
       "</div>"
      ],
      "text/plain": [
       "            accuracy  precision    recall        f1   roc-auc\n",
       "LogReg      0.778125   0.827778  0.788360  0.807588  0.855770\n",
       "RandForest  0.734375   0.754902  0.814815  0.783715  0.830910\n",
       "XGBoost     0.771875   0.771028  0.873016  0.818859  0.856113\n",
       "NN          0.765625   0.785000  0.830688  0.807198  0.860172"
      ]
     },
     "execution_count": 18,
     "metadata": {},
     "output_type": "execute_result"
    }
   ],
   "source": [
    "metrics_val = pd.DataFrame(index=['accuracy', 'precision', 'recall', 'f1', 'roc-auc'])\n",
    "models = [lr_gr, random_forest_gr, xgb]\n",
    "names = [\"LogReg\", \"RandForest\", \"XGBoost\"]\n",
    "for i in range(len(models)):\n",
    "#     models[i].fit(X_train_1, y_train)\n",
    "    #\n",
    "    y_pred = models[i].predict(X_val)\n",
    "    y_pred_roc = models[i].predict_proba(X_val)[:,1]\n",
    "    #\n",
    "    metrics_val[names[i]] = [accuracy_score(y_val, y_pred),\n",
    "    precision_score(y_val, y_pred),\n",
    "    recall_score(y_val, y_pred),\n",
    "    f1_score(y_val, y_pred),\n",
    "    roc_auc_score(y_val, y_pred_roc)]\n",
    "#\n",
    "test_preds = model.forward(X_val_n)\n",
    "test_preds_prob = model.sm(test_preds)[:,1]\n",
    "test_preds = test_preds.argmax(dim=1)\n",
    "metrics_val['NN'] = [accuracy_score(y_val_n, test_preds),\n",
    "    precision_score(y_val_n, test_preds),\n",
    "    recall_score(y_val_n, test_preds),\n",
    "    f1_score(y_val_n, test_preds),\n",
    "    roc_auc_score(y_val_n.numpy(), test_preds_prob.detach().numpy())]\n",
    "metrics_val.T"
   ]
  },
  {
   "cell_type": "markdown",
   "metadata": {},
   "source": [
    "___"
   ]
  },
  {
   "cell_type": "markdown",
   "metadata": {},
   "source": [
    "Для проверки исползуем другой набор открытых данных (от авторов статьи оригинального набора)\n",
    "\n",
    "https://gupea.ub.gu.se/handle/2077/53613"
   ]
  },
  {
   "cell_type": "code",
   "execution_count": 25,
   "metadata": {},
   "outputs": [
    {
     "name": "stdout",
     "output_type": "stream",
     "text": [
      "(1194, 23)\n"
     ]
    },
    {
     "data": {
      "text/html": [
       "<div>\n",
       "<style scoped>\n",
       "    .dataframe tbody tr th:only-of-type {\n",
       "        vertical-align: middle;\n",
       "    }\n",
       "\n",
       "    .dataframe tbody tr th {\n",
       "        vertical-align: top;\n",
       "    }\n",
       "\n",
       "    .dataframe thead th {\n",
       "        text-align: right;\n",
       "    }\n",
       "</style>\n",
       "<table border=\"1\" class=\"dataframe\">\n",
       "  <thead>\n",
       "    <tr style=\"text-align: right;\">\n",
       "      <th></th>\n",
       "      <th>ID</th>\n",
       "      <th>Age</th>\n",
       "      <th>Gender</th>\n",
       "      <th>SAD</th>\n",
       "      <th>Respiratory_rate</th>\n",
       "      <th>Saturation</th>\n",
       "      <th>Heart_rate</th>\n",
       "      <th>Temperature</th>\n",
       "      <th>Haemoglobin</th>\n",
       "      <th>Leukocytes</th>\n",
       "      <th>...</th>\n",
       "      <th>Lactate</th>\n",
       "      <th>Intensive_care_unit</th>\n",
       "      <th>survival_28</th>\n",
       "      <th>Blood_culture</th>\n",
       "      <th>Proven_infection</th>\n",
       "      <th>SIRS</th>\n",
       "      <th>SOFA_2</th>\n",
       "      <th>Sepsis_2</th>\n",
       "      <th>Septic_shock</th>\n",
       "      <th>Sepsis_3</th>\n",
       "    </tr>\n",
       "  </thead>\n",
       "  <tbody>\n",
       "    <tr>\n",
       "      <th>0</th>\n",
       "      <td>1</td>\n",
       "      <td>79</td>\n",
       "      <td>1</td>\n",
       "      <td>136.0</td>\n",
       "      <td>16.0</td>\n",
       "      <td>99.0</td>\n",
       "      <td>77.0</td>\n",
       "      <td>37.4</td>\n",
       "      <td>98.0</td>\n",
       "      <td>10.3</td>\n",
       "      <td>...</td>\n",
       "      <td>1.52</td>\n",
       "      <td>0</td>\n",
       "      <td>1</td>\n",
       "      <td>0</td>\n",
       "      <td>1</td>\n",
       "      <td>0</td>\n",
       "      <td>0</td>\n",
       "      <td>0</td>\n",
       "      <td>0</td>\n",
       "      <td>0</td>\n",
       "    </tr>\n",
       "    <tr>\n",
       "      <th>2</th>\n",
       "      <td>3</td>\n",
       "      <td>54</td>\n",
       "      <td>0</td>\n",
       "      <td>148.0</td>\n",
       "      <td>18.0</td>\n",
       "      <td>97.0</td>\n",
       "      <td>107.0</td>\n",
       "      <td>38.5</td>\n",
       "      <td>139.0</td>\n",
       "      <td>9.5</td>\n",
       "      <td>...</td>\n",
       "      <td>1.28</td>\n",
       "      <td>0</td>\n",
       "      <td>1</td>\n",
       "      <td>0</td>\n",
       "      <td>1</td>\n",
       "      <td>1</td>\n",
       "      <td>0</td>\n",
       "      <td>1</td>\n",
       "      <td>0</td>\n",
       "      <td>0</td>\n",
       "    </tr>\n",
       "    <tr>\n",
       "      <th>3</th>\n",
       "      <td>4</td>\n",
       "      <td>52</td>\n",
       "      <td>0</td>\n",
       "      <td>138.0</td>\n",
       "      <td>16.0</td>\n",
       "      <td>96.0</td>\n",
       "      <td>120.0</td>\n",
       "      <td>37.0</td>\n",
       "      <td>153.0</td>\n",
       "      <td>10.8</td>\n",
       "      <td>...</td>\n",
       "      <td>2.46</td>\n",
       "      <td>0</td>\n",
       "      <td>1</td>\n",
       "      <td>0</td>\n",
       "      <td>0</td>\n",
       "      <td>0</td>\n",
       "      <td>0</td>\n",
       "      <td>0</td>\n",
       "      <td>0</td>\n",
       "      <td>0</td>\n",
       "    </tr>\n",
       "  </tbody>\n",
       "</table>\n",
       "<p>3 rows × 23 columns</p>\n",
       "</div>"
      ],
      "text/plain": [
       "   ID  Age  Gender    SAD  Respiratory_rate  Saturation  Heart_rate   \\\n",
       "0   1   79       1  136.0              16.0        99.0         77.0   \n",
       "2   3   54       0  148.0              18.0        97.0        107.0   \n",
       "3   4   52       0  138.0              16.0        96.0        120.0   \n",
       "\n",
       "   Temperature  Haemoglobin  Leukocytes  ...  Lactate  Intensive_care_unit  \\\n",
       "0         37.4         98.0        10.3  ...     1.52                    0   \n",
       "2         38.5        139.0         9.5  ...     1.28                    0   \n",
       "3         37.0        153.0        10.8  ...     2.46                    0   \n",
       "\n",
       "   survival_28  Blood_culture  Proven_infection  SIRS  SOFA_2  Sepsis_2  \\\n",
       "0            1              0                 1     0       0         0   \n",
       "2            1              0                 1     1       0         1   \n",
       "3            1              0                 0     0       0         0   \n",
       "\n",
       "   Septic_shock  Sepsis_3  \n",
       "0             0         0  \n",
       "2             0         0  \n",
       "3             0         0  \n",
       "\n",
       "[3 rows x 23 columns]"
      ]
     },
     "execution_count": 25,
     "metadata": {},
     "output_type": "execute_result"
    }
   ],
   "source": [
    "check = r'C:\\Users\\pfft\\OneDrive\\Рабочий стол\\POSTDOC\\Проекты\\Сепсис\\SWEEDEN_sepsis_biomark\\Sepsis_biomarker_study_2011-2012_Sweden.xlsx'\n",
    "data = pd.read_excel(check)\n",
    "data = data.replace([' '], np.nan)\n",
    "df = data.dropna()\n",
    "print(df.shape)\n",
    "#\n",
    "df = df.replace(['No', 'Yes'], [0, 1])\n",
    "df = df.replace(['Male', 'Female'], [0, 1])\n",
    "df.head(3)"
   ]
  },
  {
   "cell_type": "markdown",
   "metadata": {},
   "source": [
    "В данных содержится информация об 1194 пациентах\n",
    "\n",
    "Проводим нормализацию по старым данным"
   ]
  },
  {
   "cell_type": "code",
   "execution_count": 26,
   "metadata": {},
   "outputs": [
    {
     "name": "stdout",
     "output_type": "stream",
     "text": [
      "(1194, 6)\n"
     ]
    },
    {
     "data": {
      "text/html": [
       "<div>\n",
       "<style scoped>\n",
       "    .dataframe tbody tr th:only-of-type {\n",
       "        vertical-align: middle;\n",
       "    }\n",
       "\n",
       "    .dataframe tbody tr th {\n",
       "        vertical-align: top;\n",
       "    }\n",
       "\n",
       "    .dataframe thead th {\n",
       "        text-align: right;\n",
       "    }\n",
       "</style>\n",
       "<table border=\"1\" class=\"dataframe\">\n",
       "  <thead>\n",
       "    <tr style=\"text-align: right;\">\n",
       "      <th></th>\n",
       "      <th>F6A SBP in ED</th>\n",
       "      <th>F6D Sat% in ED</th>\n",
       "      <th>F6G HR/min in ED</th>\n",
       "      <th>Gender</th>\n",
       "      <th>Age (yrs)</th>\n",
       "      <th>Infection</th>\n",
       "    </tr>\n",
       "  </thead>\n",
       "  <tbody>\n",
       "    <tr>\n",
       "      <th>0</th>\n",
       "      <td>0.075205</td>\n",
       "      <td>1.024268</td>\n",
       "      <td>-0.945892</td>\n",
       "      <td>1</td>\n",
       "      <td>0.540567</td>\n",
       "      <td>1</td>\n",
       "    </tr>\n",
       "    <tr>\n",
       "      <th>2</th>\n",
       "      <td>0.529087</td>\n",
       "      <td>0.642143</td>\n",
       "      <td>0.509794</td>\n",
       "      <td>0</td>\n",
       "      <td>-0.801990</td>\n",
       "      <td>1</td>\n",
       "    </tr>\n",
       "    <tr>\n",
       "      <th>3</th>\n",
       "      <td>0.150852</td>\n",
       "      <td>0.451080</td>\n",
       "      <td>1.140591</td>\n",
       "      <td>0</td>\n",
       "      <td>-0.909395</td>\n",
       "      <td>0</td>\n",
       "    </tr>\n",
       "    <tr>\n",
       "      <th>5</th>\n",
       "      <td>-0.492148</td>\n",
       "      <td>1.215331</td>\n",
       "      <td>-0.121003</td>\n",
       "      <td>0</td>\n",
       "      <td>-0.640883</td>\n",
       "      <td>1</td>\n",
       "    </tr>\n",
       "    <tr>\n",
       "      <th>6</th>\n",
       "      <td>-0.643443</td>\n",
       "      <td>0.260018</td>\n",
       "      <td>-0.945892</td>\n",
       "      <td>1</td>\n",
       "      <td>0.379460</td>\n",
       "      <td>1</td>\n",
       "    </tr>\n",
       "  </tbody>\n",
       "</table>\n",
       "</div>"
      ],
      "text/plain": [
       "   F6A SBP in ED  F6D Sat% in ED  F6G HR/min in ED  Gender  Age (yrs)  \\\n",
       "0       0.075205        1.024268         -0.945892       1   0.540567   \n",
       "2       0.529087        0.642143          0.509794       0  -0.801990   \n",
       "3       0.150852        0.451080          1.140591       0  -0.909395   \n",
       "5      -0.492148        1.215331         -0.121003       0  -0.640883   \n",
       "6      -0.643443        0.260018         -0.945892       1   0.379460   \n",
       "\n",
       "   Infection  \n",
       "0          1  \n",
       "2          1  \n",
       "3          0  \n",
       "5          1  \n",
       "6          1  "
      ]
     },
     "execution_count": 26,
     "metadata": {},
     "output_type": "execute_result"
    }
   ],
   "source": [
    "X = df[['SAD', 'Saturation', 'Heart_rate ', 'Gender', 'Age',\n",
    "       'Proven_infection']]\n",
    "y = df['Sepsis_3']\n",
    "#\n",
    "#\n",
    "X['SAD'] = (X['SAD']-134.01169591)/26.43855815\n",
    "X['Saturation'] = (X['Saturation']-93.63909774)/5.23388566\n",
    "X['Heart_rate '] = (X['Heart_rate ']-96.49373434)/20.60884471\n",
    "X['Age'] = (X['Age']-68.93400167)/18.6211804\n",
    "#\n",
    "X.columns = ['F6A SBP in ED', 'F6D Sat% in ED', 'F6G HR/min in ED', 'Gender','Age (yrs)', 'Infection']\n",
    "print(X.shape)\n",
    "X.head()"
   ]
  },
  {
   "cell_type": "code",
   "execution_count": 27,
   "metadata": {},
   "outputs": [],
   "source": [
    "X_n = torch.FloatTensor(X.values)\n",
    "y_n = torch.LongTensor(y.values)"
   ]
  },
  {
   "cell_type": "markdown",
   "metadata": {},
   "source": [
    "**Валидация на другом наборе данных**"
   ]
  },
  {
   "cell_type": "code",
   "execution_count": 29,
   "metadata": {},
   "outputs": [
    {
     "data": {
      "text/html": [
       "<div>\n",
       "<style scoped>\n",
       "    .dataframe tbody tr th:only-of-type {\n",
       "        vertical-align: middle;\n",
       "    }\n",
       "\n",
       "    .dataframe tbody tr th {\n",
       "        vertical-align: top;\n",
       "    }\n",
       "\n",
       "    .dataframe thead th {\n",
       "        text-align: right;\n",
       "    }\n",
       "</style>\n",
       "<table border=\"1\" class=\"dataframe\">\n",
       "  <thead>\n",
       "    <tr style=\"text-align: right;\">\n",
       "      <th></th>\n",
       "      <th>accuracy</th>\n",
       "      <th>precision</th>\n",
       "      <th>recall</th>\n",
       "      <th>f1</th>\n",
       "      <th>roc-auc</th>\n",
       "    </tr>\n",
       "  </thead>\n",
       "  <tbody>\n",
       "    <tr>\n",
       "      <th>LogReg</th>\n",
       "      <td>0.832496</td>\n",
       "      <td>0.796954</td>\n",
       "      <td>0.723502</td>\n",
       "      <td>0.758454</td>\n",
       "      <td>0.924730</td>\n",
       "    </tr>\n",
       "    <tr>\n",
       "      <th>RandForest</th>\n",
       "      <td>0.889447</td>\n",
       "      <td>0.849537</td>\n",
       "      <td>0.845622</td>\n",
       "      <td>0.847575</td>\n",
       "      <td>0.958624</td>\n",
       "    </tr>\n",
       "    <tr>\n",
       "      <th>XGBoost</th>\n",
       "      <td>0.860972</td>\n",
       "      <td>0.775720</td>\n",
       "      <td>0.868664</td>\n",
       "      <td>0.819565</td>\n",
       "      <td>0.941038</td>\n",
       "    </tr>\n",
       "    <tr>\n",
       "      <th>NN</th>\n",
       "      <td>0.840871</td>\n",
       "      <td>0.760684</td>\n",
       "      <td>0.820276</td>\n",
       "      <td>0.789357</td>\n",
       "      <td>0.927898</td>\n",
       "    </tr>\n",
       "  </tbody>\n",
       "</table>\n",
       "</div>"
      ],
      "text/plain": [
       "            accuracy  precision    recall        f1   roc-auc\n",
       "LogReg      0.832496   0.796954  0.723502  0.758454  0.924730\n",
       "RandForest  0.889447   0.849537  0.845622  0.847575  0.958624\n",
       "XGBoost     0.860972   0.775720  0.868664  0.819565  0.941038\n",
       "NN          0.840871   0.760684  0.820276  0.789357  0.927898"
      ]
     },
     "execution_count": 29,
     "metadata": {},
     "output_type": "execute_result"
    }
   ],
   "source": [
    "metrics_t = pd.DataFrame(index=['accuracy', 'precision', 'recall', 'f1', 'roc-auc'])\n",
    "models = [lr_gr, random_forest_gr, xgb]\n",
    "names = [\"LogReg\", \"RandForest\", \"XGBoost\"]\n",
    "for i in range(len(models)):\n",
    "#     models[i].fit(X_train_1, y_train)\n",
    "    #\n",
    "    y_pred = models[i].predict(X)\n",
    "    y_pred_roc = models[i].predict_proba(X)[:,1]\n",
    "    #\n",
    "    metrics_t[names[i]] = [accuracy_score(y, y_pred),\n",
    "    precision_score(y, y_pred),\n",
    "    recall_score(y, y_pred),\n",
    "    f1_score(y, y_pred),\n",
    "    roc_auc_score(y, y_pred_roc)]\n",
    "#\n",
    "test_preds = model.forward(X_n)\n",
    "test_preds_prob = model.sm(test_preds)[:,1]\n",
    "test_preds = test_preds.argmax(dim=1)\n",
    "metrics_t['NN'] = [accuracy_score(y_n, test_preds),\n",
    "    precision_score(y_n, test_preds),\n",
    "    recall_score(y_n, test_preds),\n",
    "    f1_score(y_n, test_preds),\n",
    "    roc_auc_score(y_n.numpy(), test_preds_prob.detach().numpy())]\n",
    "metrics_t.T"
   ]
  },
  {
   "cell_type": "markdown",
   "metadata": {},
   "source": [
    "**На обоих валидационных датасетах XGBoost в среднем показывает наилучшее качество**"
   ]
  },
  {
   "cell_type": "markdown",
   "metadata": {},
   "source": [
    "___\n",
    "\n",
    "### Исследуем значимость признаков с помощью SHAP"
   ]
  },
  {
   "cell_type": "code",
   "execution_count": 33,
   "metadata": {},
   "outputs": [],
   "source": [
    "import shap\n",
    "#\n",
    "# explain the model's predictions using SHAP\n",
    "# (same syntax works for LightGBM, CatBoost, scikit-learn and spark models)\n",
    "def get_shap_plot(model, X_train):\n",
    "    explainer = shap.TreeExplainer(model)\n",
    "    shap_values = explainer.shap_values(X_train)\n",
    "#     shap.summary_plot(shap_values, X_train, plot_type='bar')\n",
    "    shap.summary_plot(shap_values[1], X_train)"
   ]
  },
  {
   "cell_type": "markdown",
   "metadata": {},
   "source": [
    "Значимость на тренировочных наборах"
   ]
  },
  {
   "cell_type": "code",
   "execution_count": 35,
   "metadata": {},
   "outputs": [
    {
     "data": {
      "image/png": "[encoded data removed]",
      "text/plain": [
       "<Figure size 576x280.8 with 2 Axes>"
      ]
     },
     "metadata": {
      "needs_background": "light"
     },
     "output_type": "display_data"
    }
   ],
   "source": [
    "explainer = shap.LinearExplainer(lr_gr, X_train)\n",
    "shap_values = explainer.shap_values(X_train)\n",
    "shap.summary_plot(shap_values, X_train)"
   ]
  },
  {
   "cell_type": "code",
   "execution_count": 36,
   "metadata": {},
   "outputs": [
    {
     "data": {
      "image/png": "[encoded data removed]",
      "text/plain": [
       "<Figure size 576x280.8 with 2 Axes>"
      ]
     },
     "metadata": {
      "needs_background": "light"
     },
     "output_type": "display_data"
    }
   ],
   "source": [
    "explainer = shap.TreeExplainer(xgb, X_train)\n",
    "shap_values = explainer.shap_values(X_train)\n",
    "shap.summary_plot(shap_values, X_train)"
   ]
  },
  {
   "cell_type": "markdown",
   "metadata": {},
   "source": [
    "___"
   ]
  },
  {
   "cell_type": "markdown",
   "metadata": {},
   "source": [
    "Значимость на валидационных наборах"
   ]
  },
  {
   "cell_type": "code",
   "execution_count": 38,
   "metadata": {},
   "outputs": [
    {
     "data": {
      "image/png": "[encoded data removed]",
      "text/plain": [
       "<Figure size 576x280.8 with 2 Axes>"
      ]
     },
     "metadata": {
      "needs_background": "light"
     },
     "output_type": "display_data"
    }
   ],
   "source": [
    "explainer = shap.LinearExplainer(lr_gr, X)\n",
    "shap_values = explainer.shap_values(X)\n",
    "shap.summary_plot(shap_values, X)"
   ]
  },
  {
   "cell_type": "code",
   "execution_count": 39,
   "metadata": {},
   "outputs": [
    {
     "data": {
      "image/png": "[encoded data removed]",
      "text/plain": [
       "<Figure size 576x280.8 with 2 Axes>"
      ]
     },
     "metadata": {
      "needs_background": "light"
     },
     "output_type": "display_data"
    }
   ],
   "source": [
    "explainer = shap.TreeExplainer(xgb, X)\n",
    "shap_values = explainer.shap_values(X)\n",
    "shap.summary_plot(shap_values, X)"
   ]
  }
 ],
 "metadata": {
  "kernelspec": {
   "display_name": "Python 3",
   "language": "python",
   "name": "python3"
  },
  "language_info": {
   "codemirror_mode": {
    "name": "ipython",
    "version": 3
   },
   "file_extension": ".py",
   "mimetype": "text/x-python",
   "name": "python",
   "nbconvert_exporter": "python",
   "pygments_lexer": "ipython3",
   "version": "3.8.5"
  }
 },
 "nbformat": 4,
 "nbformat_minor": 4
}
